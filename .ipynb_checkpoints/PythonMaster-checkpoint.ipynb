{
 "cells": [
  {
   "cell_type": "markdown",
   "metadata": {},
   "source": [
    "# Python as a Language\n",
    "- Dynamically-typed: variables can take on any type\n",
    "- Stronly-typed: variables can take only one type at a time\n",
    "- Interpreted: combines compilation & execution\n",
    "\t- more convenient to run & debug code\n",
    "    - no compile-time checks\n",
    "\n",
    "\n",
    "from __future__ import braces\n",
    "from math import pi as π\n",
    "\n",
    "## We are all grown ups here (oop)\n",
    "## The Zen of Python (gimmicks)"
   ]
  },
  {
   "cell_type": "code",
   "execution_count": null,
   "metadata": {},
   "outputs": [],
   "source": [
    "x = 1\n",
    "print(x, type(x))\n",
    "print(x + 1)\n",
    "x = \"Potato\"\n",
    "print(x, type(x))\n",
    "print(x + 1)"
   ]
  },
  {
   "cell_type": "markdown",
   "metadata": {},
   "source": [
    "# Python as an Idea\n",
    "- Code should be readable: easily detect important structures in the code\n",
    "- Code should be expressive: say more with less code"
   ]
  },
  {
   "cell_type": "code",
   "execution_count": null,
   "metadata": {},
   "outputs": [],
   "source": [
    "import antigravity"
   ]
  },
  {
   "cell_type": "markdown",
   "metadata": {},
   "source": [
    "# Python Philosophy\n",
    "- Python is not generic programming language #527\n",
    "    - It has it's own character that's based a philosophy\n",
    "    - The direction of Python is guided by discussions within the community\n",
    "        - See Python Enhancement Proposals (PEP): https://www.python.org/dev/peps/\n",
    "- Prominent Philosophies:\n",
    "    - Batteries included\n",
    "    - We are all grown-ups here\n",
    "    - The Zen of Python (examples later)"
   ]
  },
  {
   "cell_type": "code",
   "execution_count": 19,
   "metadata": {},
   "outputs": [
    {
     "name": "stdout",
     "output_type": "stream",
     "text": [
      "The Zen of Python, by Tim Peters\n",
      "\n",
      "Beautiful is better than ugly.\n",
      "Explicit is better than implicit.\n",
      "Simple is better than complex.\n",
      "Complex is better than complicated.\n",
      "Flat is better than nested.\n",
      "Sparse is better than dense.\n",
      "Readability counts.\n",
      "Special cases aren't special enough to break the rules.\n",
      "Although practicality beats purity.\n",
      "Errors should never pass silently.\n",
      "Unless explicitly silenced.\n",
      "In the face of ambiguity, refuse the temptation to guess.\n",
      "There should be one-- and preferably only one --obvious way to do it.\n",
      "Although that way may not be obvious at first unless you're Dutch.\n",
      "Now is better than never.\n",
      "Although never is often better than *right* now.\n",
      "If the implementation is hard to explain, it's a bad idea.\n",
      "If the implementation is easy to explain, it may be a good idea.\n",
      "Namespaces are one honking great idea -- let's do more of those!\n"
     ]
    }
   ],
   "source": [
    "import this"
   ]
  },
  {
   "cell_type": "markdown",
   "metadata": {},
   "source": [
    "## Batteries included\n",
    "- (Almost) everything that you would need is made available \n",
    "- A simple Python installation includes:\n",
    "    - Python Interpreter: ! python SCRIPT_FILE ARGS...\n",
    "    - REPL (Read-Eval-Print-Loop): ! python\n",
    "    - Comprehensive standard library: https://docs.python.org/3/library/\n",
    "        - Package manager: ! pip install PACKAGE_NAME\n",
    "        - Built-ins: automatically loaded modules, objects\n",
    "        - Generic Operating System Services\n",
    "            - import os\n",
    "        - Custom Python Interpreters\n",
    "            - import code\n",
    "        - Python Runtime Services\n",
    "            - import sys\n",
    "            - import inspect"
   ]
  },
  {
   "cell_type": "code",
   "execution_count": 1,
   "metadata": {},
   "outputs": [
    {
     "data": {
      "text/plain": [
       "\"This is Python's Read-Eval-Print-Loop (REPL)\""
      ]
     },
     "execution_count": 1,
     "metadata": {},
     "output_type": "execute_result"
    }
   ],
   "source": [
    "\"This is Python's Read-Eval-Print-Loop (REPL).\""
   ]
  },
  {
   "cell_type": "code",
   "execution_count": 2,
   "metadata": {},
   "outputs": [
    {
     "data": {
      "text/plain": [
       "{'__name__': '__main__',\n",
       " '__doc__': 'Automatically created module for IPython interactive environment',\n",
       " '__package__': None,\n",
       " '__loader__': None,\n",
       " '__spec__': None,\n",
       " '__builtin__': <module 'builtins' (built-in)>,\n",
       " '__builtins__': <module 'builtins' (built-in)>,\n",
       " '_ih': ['', '\"This is Python\\'s Read-Eval-Print-Loop (REPL)\"', 'globals()'],\n",
       " '_oh': {1: \"This is Python's Read-Eval-Print-Loop (REPL)\"},\n",
       " '_dh': ['C:\\\\Users\\\\jguzman2\\\\OneDrive - Infor\\\\Desktop\\\\workdump'],\n",
       " 'In': ['', '\"This is Python\\'s Read-Eval-Print-Loop (REPL)\"', 'globals()'],\n",
       " 'Out': {1: \"This is Python's Read-Eval-Print-Loop (REPL)\"},\n",
       " 'get_ipython': <bound method InteractiveShell.get_ipython of <ipykernel.zmqshell.ZMQInteractiveShell object at 0x00000108B72A7DD8>>,\n",
       " 'exit': <IPython.core.autocall.ZMQExitAutocall at 0x108b7e02828>,\n",
       " 'quit': <IPython.core.autocall.ZMQExitAutocall at 0x108b7e02828>,\n",
       " '_': \"This is Python's Read-Eval-Print-Loop (REPL)\",\n",
       " '__': '',\n",
       " '___': '',\n",
       " '_i': '\"This is Python\\'s Read-Eval-Print-Loop (REPL)\"',\n",
       " '_ii': '',\n",
       " '_iii': '',\n",
       " '_i1': '\"This is Python\\'s Read-Eval-Print-Loop (REPL)\"',\n",
       " '_1': \"This is Python's Read-Eval-Print-Loop (REPL)\",\n",
       " '_i2': 'globals()'}"
      ]
     },
     "execution_count": 2,
     "metadata": {},
     "output_type": "execute_result"
    }
   ],
   "source": [
    "globals()  # built-in function that shows all global variables in scope"
   ]
  },
  {
   "cell_type": "code",
   "execution_count": 3,
   "metadata": {},
   "outputs": [
    {
     "data": {
      "text/plain": [
       "'__main__'"
      ]
     },
     "execution_count": 3,
     "metadata": {},
     "output_type": "execute_result"
    }
   ],
   "source": [
    "__name__  # the variable that stores the nature of execution\n",
    "## if loaded as a script, then __name__ == '__main__'; if loaded as an import, then __name__ == NAME_OF_IMPORTER"
   ]
  },
  {
   "cell_type": "code",
   "execution_count": 4,
   "metadata": {},
   "outputs": [
    {
     "data": {
      "text/plain": [
       "'__main__'"
      ]
     },
     "execution_count": 4,
     "metadata": {},
     "output_type": "execute_result"
    }
   ],
   "source": [
    "_  # the REPL-specific variable that stores the previous evaluation"
   ]
  },
  {
   "cell_type": "code",
   "execution_count": 5,
   "metadata": {},
   "outputs": [
    {
     "data": {
      "text/plain": [
       "<module 'builtins' (built-in)>"
      ]
     },
     "execution_count": 5,
     "metadata": {},
     "output_type": "execute_result"
    }
   ],
   "source": [
    "__builtins__"
   ]
  },
  {
   "cell_type": "code",
   "execution_count": 6,
   "metadata": {},
   "outputs": [
    {
     "data": {
      "text/plain": [
       "['ArithmeticError',\n",
       " 'AssertionError',\n",
       " 'AttributeError',\n",
       " 'BaseException',\n",
       " 'BlockingIOError',\n",
       " 'BrokenPipeError',\n",
       " 'BufferError',\n",
       " 'BytesWarning',\n",
       " 'ChildProcessError',\n",
       " 'ConnectionAbortedError',\n",
       " 'ConnectionError',\n",
       " 'ConnectionRefusedError',\n",
       " 'ConnectionResetError',\n",
       " 'DeprecationWarning',\n",
       " 'EOFError',\n",
       " 'Ellipsis',\n",
       " 'EnvironmentError',\n",
       " 'Exception',\n",
       " 'False',\n",
       " 'FileExistsError',\n",
       " 'FileNotFoundError',\n",
       " 'FloatingPointError',\n",
       " 'FutureWarning',\n",
       " 'GeneratorExit',\n",
       " 'IOError',\n",
       " 'ImportError',\n",
       " 'ImportWarning',\n",
       " 'IndentationError',\n",
       " 'IndexError',\n",
       " 'InterruptedError',\n",
       " 'IsADirectoryError',\n",
       " 'KeyError',\n",
       " 'KeyboardInterrupt',\n",
       " 'LookupError',\n",
       " 'MemoryError',\n",
       " 'ModuleNotFoundError',\n",
       " 'NameError',\n",
       " 'None',\n",
       " 'NotADirectoryError',\n",
       " 'NotImplemented',\n",
       " 'NotImplementedError',\n",
       " 'OSError',\n",
       " 'OverflowError',\n",
       " 'PendingDeprecationWarning',\n",
       " 'PermissionError',\n",
       " 'ProcessLookupError',\n",
       " 'RecursionError',\n",
       " 'ReferenceError',\n",
       " 'ResourceWarning',\n",
       " 'RuntimeError',\n",
       " 'RuntimeWarning',\n",
       " 'StopAsyncIteration',\n",
       " 'StopIteration',\n",
       " 'SyntaxError',\n",
       " 'SyntaxWarning',\n",
       " 'SystemError',\n",
       " 'SystemExit',\n",
       " 'TabError',\n",
       " 'TimeoutError',\n",
       " 'True',\n",
       " 'TypeError',\n",
       " 'UnboundLocalError',\n",
       " 'UnicodeDecodeError',\n",
       " 'UnicodeEncodeError',\n",
       " 'UnicodeError',\n",
       " 'UnicodeTranslateError',\n",
       " 'UnicodeWarning',\n",
       " 'UserWarning',\n",
       " 'ValueError',\n",
       " 'Warning',\n",
       " 'WindowsError',\n",
       " 'ZeroDivisionError',\n",
       " '__IPYTHON__',\n",
       " '__build_class__',\n",
       " '__debug__',\n",
       " '__doc__',\n",
       " '__import__',\n",
       " '__loader__',\n",
       " '__name__',\n",
       " '__package__',\n",
       " '__spec__',\n",
       " 'abs',\n",
       " 'all',\n",
       " 'any',\n",
       " 'ascii',\n",
       " 'bin',\n",
       " 'bool',\n",
       " 'breakpoint',\n",
       " 'bytearray',\n",
       " 'bytes',\n",
       " 'callable',\n",
       " 'chr',\n",
       " 'classmethod',\n",
       " 'compile',\n",
       " 'complex',\n",
       " 'copyright',\n",
       " 'credits',\n",
       " 'delattr',\n",
       " 'dict',\n",
       " 'dir',\n",
       " 'display',\n",
       " 'divmod',\n",
       " 'enumerate',\n",
       " 'eval',\n",
       " 'exec',\n",
       " 'filter',\n",
       " 'float',\n",
       " 'format',\n",
       " 'frozenset',\n",
       " 'get_ipython',\n",
       " 'getattr',\n",
       " 'globals',\n",
       " 'hasattr',\n",
       " 'hash',\n",
       " 'help',\n",
       " 'hex',\n",
       " 'id',\n",
       " 'input',\n",
       " 'int',\n",
       " 'isinstance',\n",
       " 'issubclass',\n",
       " 'iter',\n",
       " 'len',\n",
       " 'license',\n",
       " 'list',\n",
       " 'locals',\n",
       " 'map',\n",
       " 'max',\n",
       " 'memoryview',\n",
       " 'min',\n",
       " 'next',\n",
       " 'object',\n",
       " 'oct',\n",
       " 'open',\n",
       " 'ord',\n",
       " 'pow',\n",
       " 'print',\n",
       " 'property',\n",
       " 'range',\n",
       " 'repr',\n",
       " 'reversed',\n",
       " 'round',\n",
       " 'set',\n",
       " 'setattr',\n",
       " 'slice',\n",
       " 'sorted',\n",
       " 'staticmethod',\n",
       " 'str',\n",
       " 'sum',\n",
       " 'super',\n",
       " 'tuple',\n",
       " 'type',\n",
       " 'vars',\n",
       " 'zip']"
      ]
     },
     "execution_count": 6,
     "metadata": {},
     "output_type": "execute_result"
    }
   ],
   "source": [
    "dir(__builtins__)  # built-in function that shows all references contained by an object"
   ]
  },
  {
   "cell_type": "code",
   "execution_count": null,
   "metadata": {},
   "outputs": [],
   "source": [
    "print(\"Hello world!\")  # built-in method for printing the string representation of an object"
   ]
  },
  {
   "cell_type": "code",
   "execution_count": 9,
   "metadata": {},
   "outputs": [
    {
     "data": {
      "text/plain": [
       "<function round(number, ndigits=None)>"
      ]
     },
     "execution_count": 9,
     "metadata": {},
     "output_type": "execute_result"
    }
   ],
   "source": [
    "__builtins__.round"
   ]
  },
  {
   "cell_type": "code",
   "execution_count": 12,
   "metadata": {},
   "outputs": [
    {
     "data": {
      "text/plain": [
       "True"
      ]
     },
     "execution_count": 12,
     "metadata": {},
     "output_type": "execute_result"
    }
   ],
   "source": [
    "round == __builtins__.round"
   ]
  },
  {
   "cell_type": "code",
   "execution_count": 13,
   "metadata": {},
   "outputs": [
    {
     "ename": "TypeError",
     "evalue": "type str doesn't define __round__ method",
     "output_type": "error",
     "traceback": [
      "\u001b[1;31m---------------------------------------------------------------------------\u001b[0m",
      "\u001b[1;31mTypeError\u001b[0m                                 Traceback (most recent call last)",
      "\u001b[1;32m<ipython-input-13-776ea15a3248>\u001b[0m in \u001b[0;36m<module>\u001b[1;34m\u001b[0m\n\u001b[1;32m----> 1\u001b[1;33m \u001b[0mround\u001b[0m\u001b[1;33m(\u001b[0m\u001b[1;34m\"potato\"\u001b[0m\u001b[1;33m)\u001b[0m\u001b[1;33m\u001b[0m\u001b[0m\n\u001b[0m",
      "\u001b[1;31mTypeError\u001b[0m: type str doesn't define __round__ method"
     ]
    }
   ],
   "source": [
    "round(\"potato\")"
   ]
  },
  {
   "cell_type": "code",
   "execution_count": 14,
   "metadata": {},
   "outputs": [
    {
     "name": "stdout",
     "output_type": "stream",
     "text": [
      "Help on built-in function round in module builtins:\n",
      "\n",
      "round(number, ndigits=None)\n",
      "    Round a number to a given precision in decimal digits.\n",
      "    \n",
      "    The return value is an integer if ndigits is omitted or None.  Otherwise\n",
      "    the return value has the same type as the number.  ndigits may be negative.\n",
      "\n"
     ]
    }
   ],
   "source": [
    " help(round)  # built-in method that shows the docstrings embedded in an object"
   ]
  },
  {
   "cell_type": "code",
   "execution_count": 15,
   "metadata": {},
   "outputs": [
    {
     "data": {
      "text/plain": [
       "2"
      ]
     },
     "execution_count": 15,
     "metadata": {},
     "output_type": "execute_result"
    }
   ],
   "source": [
    "round(1.5)"
   ]
  },
  {
   "cell_type": "code",
   "execution_count": 17,
   "metadata": {},
   "outputs": [
    {
     "name": "stdout",
     "output_type": "stream",
     "text": [
      "\n",
      "Please wait a moment while I gather a list of all available modules...\n",
      "\n"
     ]
    },
    {
     "name": "stderr",
     "output_type": "stream",
     "text": [
      "C:\\Users\\jguzman2\\AppData\\Roaming\\Python\\Python37\\site-packages\\IPython\\kernel\\__init__.py:13: ShimWarning: The `IPython.kernel` package has been deprecated since IPython 4.0.You should import from ipykernel or jupyter_client instead.\n",
      "  \"You should import from ipykernel or jupyter_client instead.\", ShimWarning)\n",
      "c:\\program files\\python37-64-bit\\lib\\site-packages\\requests\\__init__.py:80: RequestsDependencyWarning: urllib3 (1.23) or chardet (3.0.4) doesn't match a supported version!\n",
      "  RequestsDependencyWarning)\n",
      "c:\\program files\\python37-64-bit\\lib\\pkgutil.py:107: VisibleDeprecationWarning: zmq.eventloop.minitornado is deprecated in pyzmq 14.0 and will be removed.\n",
      "    Install tornado itself to use zmq with the tornado IOLoop.\n",
      "    \n",
      "  yield from walk_packages(path, info.name+'.', onerror)\n"
     ]
    },
    {
     "name": "stdout",
     "output_type": "stream",
     "text": [
      "IPython             autoreload          ipykernel           sched\n",
      "VisualizeModelActivity backcall            ipykernel_launcher  scipy\n",
      "__future__          backports           ipython_genutils    secrets\n",
      "_abc                base64              ipywidgets          select\n",
      "_ast                bdb                 itertools           selectors\n",
      "_asyncio            binascii            jedi                send2trash\n",
      "_bisect             binhex              jinja2              setuptools\n",
      "_blake2             bisect              jmespath            shelve\n",
      "_bootlocale         bleach              json                shlex\n",
      "_bz2                boto3               jsonschema          shutil\n",
      "_codecs             botocore            jupyter             signal\n",
      "_codecs_cn          builtins            jupyter_client      simplegeneric\n",
      "_codecs_hk          bz2                 jupyter_console     site\n",
      "_codecs_iso2022     cProfile            jupyter_core        six\n",
      "_codecs_jp          calendar            keyword             sklearn\n",
      "_codecs_kr          certifi             learn_tensorflow    smtpd\n",
      "_codecs_tw          cgi                 lib2to3             smtplib\n",
      "_collections        cgitb               linecache           sndhdr\n",
      "_collections_abc    chardet             locale              socket\n",
      "_compat_pickle      chunk               logging             socketserver\n",
      "_compression        clipboard           lzma                sqlite3\n",
      "_contextvars        cmath               macpath             sre_compile\n",
      "_csv                cmd                 mailbox             sre_constants\n",
      "_ctypes             code                mailcap             sre_parse\n",
      "_ctypes_test        codecs              markupsafe          ssl\n",
      "_datetime           codeop              marshal             startup\n",
      "_decimal            collections         math                stat\n",
      "_distutils_findvs   colorama            mimetypes           statistics\n",
      "_dummy_thread       colorsys            mistune             storemagic\n",
      "_elementtree        compileall          mmap                string\n",
      "_functools          concurrent          modulefinder        stringprep\n",
      "_hashlib            configparser        msilib              struct\n",
      "_heapq              contextMaster       msvcrt              subprocess\n",
      "_imp                contextlib          multiprocessing     sunau\n",
      "_io                 contextvars         mxnet               symbol\n",
      "_json               copy                nbconvert           sympyprinting\n",
      "_locale             copyreg             nbformat            symtable\n",
      "_lsprof             crypt               netrc               sys\n",
      "_lzma               csv                 networkx            sysconfig\n",
      "_markupbase         ctypes              nntplib             tabnanny\n",
      "_md5                curses              notebook            talkerts\n",
      "_msi                cythonmagic         nt                  tarfile\n",
      "_multibytecodec     dataclasses         ntpath              telnetlib\n",
      "_multiprocessing    datetime            nturl2path          tempfile\n",
      "_opcode             dateutil            numbers             terminado\n",
      "_operator           dbm                 numpy               test\n",
      "_osx_support        decimal             opcode              test_regex\n",
      "_overlapped         decorator           operator            testpath\n",
      "_pickle             defusedxml          optparse            tests\n",
      "_py_abc             derp                os                  textwrap\n",
      "_pydecimal          difflib             pandocfilters       this\n",
      "_pyio               dis                 parser              threading\n",
      "_queue              distutils           parso               time\n",
      "_random             doctest             pathlib             timeit\n",
      "_regex              docutils            pdb                 token\n",
      "_regex_core         dot_parser          pickle              tokenize\n",
      "_sha1               dummy_threading     pickleshare         tornado\n",
      "_sha256             easy_install        pickletools         trace\n",
      "_sha3               email               pip                 traceback\n",
      "_sha512             encodings           pipdeptree          tracemalloc\n",
      "_signal             ensurepip           pipes               traitlets\n",
      "_sitebuiltins       entrypoints         pkg_resources       tty\n",
      "_socket             enum                pkgutil             turtle\n",
      "_sqlite3            errno               platform            types\n",
      "_sre                faulthandler        plistlib            typing\n",
      "_ssl                filecmp             poplib              unicodedata\n",
      "_stat               fileinput           posixpath           unittest\n",
      "_string             fnmatch             pprint              urllib\n",
      "_strptime           formatter           profile             urllib3\n",
      "_struct             fractions           prometheus_client   uu\n",
      "_symtable           ftplib              prompt_toolkit      uuid\n",
      "_testbuffer         functools           pstats              venv\n",
      "_testcapi           gc                  pty                 warnings\n",
      "_testconsole        genericpath         py_compile          wave\n",
      "_testimportmultiple getopt              pyclbr              wcwidth\n",
      "_testmultiphase     getpass             pydoc               weakref\n",
      "_thread             gettext             pydoc_data          webbrowser\n",
      "_threading_local    glob                pydot               webencodings\n",
      "_tracemalloc        graphviz            pyexpat             widgetsnbextension\n",
      "_warnings           gzip                pygments            winpty\n",
      "_weakref            hashlib             pyparsing           winreg\n",
      "_weakrefset         heapq               pyperclip           winsound\n",
      "_winapi             hmac                qtconsole           wsgiref\n",
      "abc                 html                queue               xdrlib\n",
      "aifc                html5lib            quopri              xgboost\n",
      "antigravity         http                random              xml\n",
      "argparse            idna                re                  xmlrpc\n",
      "array               imaplib             regex               xxsubtype\n",
      "ast                 imghdr              reprlib             ywat\n",
      "asynchat            imp                 requests            zipapp\n",
      "asyncio             importlib           rlcompleter         zipfile\n",
      "asyncore            inspect             rmagic              zipimport\n",
      "atexit              io                  runpy               zlib\n",
      "audioop             ipaddress           s3transfer          zmq\n",
      "\n",
      "Enter any module name to get more help.  Or, type \"modules spam\" to search\n",
      "for modules whose name or summary contain the string \"spam\".\n",
      "\n"
     ]
    }
   ],
   "source": [
    "help(\"modules\")  # help recognizes special strings, e.g. \"modules\" shows all available modules"
   ]
  },
  {
   "cell_type": "markdown",
   "metadata": {},
   "source": [
    "### Headless-Chicken coding\n",
    "- The combination of a real-time REPL, built-in, and standard libraries lets you code with minimal background knowledge\n",
    "- This lets you be sure of the code you write works, before even writing it in a file\n",
    "    - Do sample demo\n",
    "- This snippet of code let's you bring up a REPL in the middle of execution\n",
    "    - import code; code.interact(local={**locals(), **globals()})"
   ]
  },
  {
   "cell_type": "markdown",
   "metadata": {},
   "source": [
    "### Built-ins proper\n",
    "#### Creating built-in objects\n",
    "- int class (+ None, Bool)"
   ]
  },
  {
   "cell_type": "code",
   "execution_count": 61,
   "metadata": {},
   "outputs": [
    {
     "name": "stdout",
     "output_type": "stream",
     "text": [
      "ints via literals:\n",
      "10\n",
      "2\n",
      "511\n",
      "-3735928559\n",
      "ints via constructors:\n",
      "1\n",
      "10\n",
      "-8\n"
     ]
    }
   ],
   "source": [
    "print(\"ints via literals:\")\n",
    "print(10)  # int default\n",
    "print(0b10)  # int base 2\n",
    "print(0o777)  # int base 8\n",
    "print(-0xdeadbeef)  # int base 16\n",
    "\n",
    "print(\"ints via constructors:\")\n",
    "print(int(True))\n",
    "print(int(10.9))\n",
    "print(int(\"-11\", base=7))"
   ]
  },
  {
   "cell_type": "markdown",
   "metadata": {},
   "source": [
    "- float class"
   ]
  },
  {
   "cell_type": "code",
   "execution_count": 67,
   "metadata": {},
   "outputs": [
    {
     "name": "stdout",
     "output_type": "stream",
     "text": [
      "floats via literals:\n",
      "10.1\n",
      "-2e-05\n",
      "floats via constructors:\n",
      "0.0\n",
      "nan\n",
      "inf\n",
      "-inf\n"
     ]
    }
   ],
   "source": [
    "print(\"floats via literals:\")\n",
    "print(10.1)  # float default\n",
    "print(-2e-5)  # float scientific notation\n",
    "\n",
    "print(\"floats via constructors:\")\n",
    "print(float(False))\n",
    "print(float('nan'))\n",
    "print(float('inf'))\n",
    "print(float('-inf'))"
   ]
  },
  {
   "cell_type": "markdown",
   "metadata": {},
   "source": [
    "- str class"
   ]
  },
  {
   "cell_type": "code",
   "execution_count": 76,
   "metadata": {
    "scrolled": true
   },
   "outputs": [
    {
     "name": "stdout",
     "output_type": "stream",
     "text": [
      "strs via literals:\n",
      "I'm JP\n",
      "JP said \"This sentence is false.\"\n",
      "___\n",
      "my line 2: I'm JP (multiline version) \n",
      "___\n",
      "my line 2: JP said \"This sentence is false.\" (multiline version) \n",
      "I'm a string with\n",
      "\t escape squences\tæ\n",
      "I'm a raw string \\n\\t\n",
      "I'm can format strings using f-strings. My __name__ is: __main__\n",
      "strs via constructors:\n",
      "10\n",
      "hello\n"
     ]
    }
   ],
   "source": [
    "print(\"strs via literals:\")\n",
    "print(\"I'm JP\")  # delimit strings with \" to avoid the need to escape '\n",
    "print('JP said \"This sentence is false.\"')  # delimit strings with ' to avoid the need to escape \"\n",
    "print(\"\"\"___\n",
    "my line 2: I'm JP (multiline version) \"\"\")\n",
    "print('''___\n",
    "my line 2: JP said \"This sentence is false.\" (multiline version) ''')\n",
    "print(\"I'm a string with\\n\\t escape squences\\t\\u00e6\")\n",
    "print(r\"I'm a raw string \\n\\t\")\n",
    "print(f\"I'm can format strings using f-strings. My __name__ is: {__name__}\")\n",
    "\n",
    "print(\"strs via constructors:\")\n",
    "print(str(10))\n",
    "print(str(b\"hello\", encoding='utf-8'))"
   ]
  },
  {
   "cell_type": "markdown",
   "metadata": {},
   "source": [
    "- bytes class"
   ]
  },
  {
   "cell_type": "code",
   "execution_count": 77,
   "metadata": {},
   "outputs": [
    {
     "name": "stdout",
     "output_type": "stream",
     "text": [
      "bytes via literals:\n",
      "b\"i'm a bytestring\"\n",
      "bytes via constructors:\n",
      "b'\\x00\\x00\\x00\\x00\\x00\\x00\\x00\\x00\\x00\\x00'\n",
      "b'hello'\n"
     ]
    }
   ],
   "source": [
    "print(\"bytes via literals:\")\n",
    "print(b\"i'm a bytestring\")\n",
    "\n",
    "print(\"bytes via constructors:\")\n",
    "print(bytes(10))\n",
    "print(bytes(\"hello\", encoding='utf-8'))"
   ]
  },
  {
   "cell_type": "markdown",
   "metadata": {},
   "source": [
    "- tuple class"
   ]
  },
  {
   "cell_type": "code",
   "execution_count": 79,
   "metadata": {},
   "outputs": [
    {
     "name": "stdout",
     "output_type": "stream",
     "text": [
      "()\n",
      "(1, True, 'potato')\n"
     ]
    }
   ],
   "source": [
    "print(())  # empty tuple\n",
    "print((1, True, \"potato\"))"
   ]
  },
  {
   "cell_type": "markdown",
   "metadata": {},
   "source": [
    "- list class (mutable)"
   ]
  },
  {
   "cell_type": "code",
   "execution_count": 80,
   "metadata": {},
   "outputs": [
    {
     "name": "stdout",
     "output_type": "stream",
     "text": [
      "[]\n",
      "[1, True, 'potato']\n"
     ]
    }
   ],
   "source": [
    "print([])  # empty list\n",
    "print([1, True, \"potato\"])"
   ]
  },
  {
   "cell_type": "markdown",
   "metadata": {},
   "source": [
    "- dict class (mutable)"
   ]
  },
  {
   "cell_type": "code",
   "execution_count": 81,
   "metadata": {},
   "outputs": [
    {
     "name": "stdout",
     "output_type": "stream",
     "text": [
      "{}\n",
      "{'keys must be immutable objects': 'values can be any object', True: '', 'False': 50, ('x', 'y', 'z'): [1, '2', True]}\n"
     ]
    }
   ],
   "source": [
    "print({})  # empty dict\n",
    "print({\n",
    "    \"keys must be immutable objects\": \"values can be any object\",\n",
    "    True: \"\",\n",
    "    \"False\": 50,\n",
    "    (\"x\", \"y\", \"z\"): [1, \"2\", True]\n",
    "})"
   ]
  },
  {
   "cell_type": "markdown",
   "metadata": {},
   "source": [
    "#### Manipulating Built-in objects\n",
    "- Manipulating numbers"
   ]
  },
  {
   "cell_type": "code",
   "execution_count": 83,
   "metadata": {},
   "outputs": [
    {
     "name": "stdout",
     "output_type": "stream",
     "text": [
      "['__abs__', '__add__', '__and__', '__bool__', '__ceil__', '__class__', '__delattr__', '__dir__', '__divmod__', '__doc__', '__eq__', '__float__', '__floor__', '__floordiv__', '__format__', '__ge__', '__getattribute__', '__getnewargs__', '__gt__', '__hash__', '__index__', '__init__', '__init_subclass__', '__int__', '__invert__', '__le__', '__lshift__', '__lt__', '__mod__', '__mul__', '__ne__', '__neg__', '__new__', '__or__', '__pos__', '__pow__', '__radd__', '__rand__', '__rdivmod__', '__reduce__', '__reduce_ex__', '__repr__', '__rfloordiv__', '__rlshift__', '__rmod__', '__rmul__', '__ror__', '__round__', '__rpow__', '__rrshift__', '__rshift__', '__rsub__', '__rtruediv__', '__rxor__', '__setattr__', '__sizeof__', '__str__', '__sub__', '__subclasshook__', '__truediv__', '__trunc__', '__xor__', 'bit_length', 'conjugate', 'denominator', 'from_bytes', 'imag', 'numerator', 'real', 'to_bytes']\n"
     ]
    }
   ],
   "source": [
    "print(dir(10))  # the behavior of an object is characterized by its methods"
   ]
  },
  {
   "cell_type": "code",
   "execution_count": 87,
   "metadata": {},
   "outputs": [
    {
     "name": "stdout",
     "output_type": "stream",
     "text": [
      "True\n",
      "3.3333333333333335\n",
      "3\n",
      "8\n"
     ]
    }
   ],
   "source": [
    "print((10).__mul__((10).__add__(1)).__eq__(10 * (10 + 1)))  # most keywords in Python are actually calls to \"Magic methods\"\n",
    "print(10 / 3)  # real division (calls __div__)\n",
    "print(10 // 3)  # integer division (calls something)\n",
    "print(2 ** 3)  # exponentiation (calls __pow__)"
   ]
  },
  {
   "cell_type": "markdown",
   "metadata": {},
   "source": [
    "- Manipulating collections"
   ]
  },
  {
   "cell_type": "code",
   "execution_count": 99,
   "metadata": {},
   "outputs": [
    {
     "name": "stdout",
     "output_type": "stream",
     "text": [
      "list and tuple indexing:\n",
      "1\n",
      "6\n",
      "[1, 2]\n",
      "[3, 4, 5, 6]\n",
      "[1, 2, 3, 4]\n",
      "[5, 6]\n",
      "[1, 2, 3, 4, 5, 6]\n",
      "dict indexing:\n",
      "-10\n",
      "default get\n"
     ]
    }
   ],
   "source": [
    "print(\"list and tuple indexing:\")\n",
    "print([1, 2, 3, 4, 5, 6][0])  # gets object at index 0 (calls __getitem__)\n",
    "print([1, 2, 3, 4, 5, 6][-1])  # gets object at last index (lists are circular)\n",
    "print([1, 2, 3, 4, 5, 6][ :2])  # splices the list from start index until index 2\n",
    "print([1, 2, 3, 4, 5, 6][2: ])  # splices the list from index 2 until last index\n",
    "print([1, 2, 3, 4, 5, 6][ :-2])  # splices the list from start index until second to last index\n",
    "print([1, 2, 3, 4, 5, 6][-2: ])  # splices the list from second to last index until last index \n",
    "print([1, 2, 3, 4, 5, 6][:])  # splices the list from start index to last index (new copy)\n",
    "\n",
    "print(\"dict indexing:\")\n",
    "print({1: 2, True: -10}[True])\n",
    "print({1: 2, True: -10}.get(False, \"default get\"))\n",
    "\n",
    "# todo comprehensions"
   ]
  },
  {
   "cell_type": "code",
   "execution_count": 46,
   "metadata": {},
   "outputs": [
    {
     "data": {
      "text/plain": [
       "8"
      ]
     },
     "execution_count": 46,
     "metadata": {},
     "output_type": "execute_result"
    }
   ],
   "source": [
    "2 ** 3  # exponentiation"
   ]
  },
  {
   "cell_type": "markdown",
   "metadata": {},
   "source": [
    "2.5  # float default\n",
    "-3e-8  # float scientific notation\n",
    "\n",
    "### Imports\n",
    "import time\n",
    "import time as t\n",
    "time == t\n",
    "\n",
    "#### functions relations\n",
    "https://code.sololearn.com/cVRUy2BwauK8#java"
   ]
  },
  {
   "cell_type": "code",
   "execution_count": null,
   "metadata": {},
   "outputs": [],
   "source": []
  }
 ],
 "metadata": {
  "kernelspec": {
   "display_name": "Python 3",
   "language": "python",
   "name": "python3"
  },
  "language_info": {
   "codemirror_mode": {
    "name": "ipython",
    "version": 3
   },
   "file_extension": ".py",
   "mimetype": "text/x-python",
   "name": "python",
   "nbconvert_exporter": "python",
   "pygments_lexer": "ipython3",
   "version": "3.7.0"
  }
 },
 "nbformat": 4,
 "nbformat_minor": 2
}
