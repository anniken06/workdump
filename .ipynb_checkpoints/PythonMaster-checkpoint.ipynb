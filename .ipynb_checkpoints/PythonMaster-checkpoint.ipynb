{
 "cells": [
  {
   "cell_type": "code",
   "execution_count": null,
   "metadata": {},
   "outputs": [],
   "source": [
    "from __future__ import braces\n",
    "from math import pi as π\n",
    "\n",
    "\\#\\# We are all grown ups here (oop)\n",
    "Respecting modularity is up to the user since \"We're all grown-ups here\"\n",
    "Ensuring type safety is up to the user since \"We're all grown-ups here\"\n",
    "\\#\\# The Zen of Python (gimmicks)\n",
    "\n",
    "\n",
    "controls\n",
    "comprehensions\n",
    "class def, multiple inheritance\n",
    "\n",
    "\n",
    "if statement\n",
    "readability counts\n",
    "flat is better than nested\n",
    "\n",
    "for while\n",
    "-one way\n",
    "\n",
    "should I zen first?\n",
    "maybe create references to Zen + Other Philosophies"
   ]
  },
  {
   "cell_type": "markdown",
   "metadata": {},
   "source": [
    "# Python as a Language\n",
    "- Dynamically-typed: variables can take on any type\n",
    "- Stronly-typed: variables can take only one type at a time\n",
    "- Interpreted: combines compilation & execution\n",
    "\t- more convenient to run & debug code\n",
    "    - but, no compile-time checks"
   ]
  },
  {
   "cell_type": "code",
   "execution_count": null,
   "metadata": {},
   "outputs": [],
   "source": [
    "x = 1\n",
    "print(x, type(x))\n",
    "print(x + 1)\n",
    "x = \"potato\"\n",
    "print(x, type(x))\n",
    "print(x + 1)"
   ]
  },
  {
   "cell_type": "markdown",
   "metadata": {},
   "source": [
    "# Python as an Idea\n",
    "- Code should be readable: easily detect important structures in the code\n",
    "- Code should be expressive: say more with less code"
   ]
  },
  {
   "cell_type": "code",
   "execution_count": null,
   "metadata": {},
   "outputs": [],
   "source": [
    "import antigravity"
   ]
  },
  {
   "cell_type": "markdown",
   "metadata": {},
   "source": [
    "# Python Philosophy\n",
    "- Python is not generic programming language #527\n",
    "    - It has character based on philosophy\n",
    "    - The direction of Python is guided by discussions within the community\n",
    "        - See Python Enhancement Proposals (PEP): https://www.python.org/dev/peps/\n",
    "- Prominent Philosophies:\n",
    "    - Batteries included\n",
    "    - We are all grown-ups here\n",
    "    - The Zen of Python (examples later)"
   ]
  },
  {
   "cell_type": "code",
   "execution_count": null,
   "metadata": {},
   "outputs": [],
   "source": [
    "import this"
   ]
  },
  {
   "cell_type": "markdown",
   "metadata": {},
   "source": [
    "## Batteries included\n",
    "- (Almost) everything that you would need is made available \n",
    "- A simple Python installation includes:\n",
    "    - Python Interpreter: ! python SCRIPT_FILE ARGS...\n",
    "    - REPL (Read-Eval-Print-Loop): ! python\n",
    "    - Comprehensive standard library: https://docs.python.org/3/library/\n",
    "        - Package manager: ! pip install PACKAGE_NAME\n",
    "        - Built-ins: automatically loaded modules, objects\n",
    "        - Generic Operating System Services (os)\n",
    "        - Custom Python Interpreters (code)\n",
    "        - Python Runtime Services (sys, inspect)\n",
    "        - Internet Data Handling (json, base64, mimetypes)"
   ]
  },
  {
   "cell_type": "code",
   "execution_count": null,
   "metadata": {},
   "outputs": [],
   "source": [
    "\"This is Python's Read-Eval-Print-Loop (REPL).\""
   ]
  },
  {
   "cell_type": "code",
   "execution_count": null,
   "metadata": {},
   "outputs": [],
   "source": [
    "globals()  # built-in function that shows all global variables in scope"
   ]
  },
  {
   "cell_type": "code",
   "execution_count": null,
   "metadata": {},
   "outputs": [],
   "source": [
    "__name__  # the variable that stores the nature of execution\n",
    "## if loaded as a script, then __name__ == '__main__'\n",
    "## if loaded as an import, then __name__ == NAME_OF_IMPORTER"
   ]
  },
  {
   "cell_type": "code",
   "execution_count": null,
   "metadata": {},
   "outputs": [],
   "source": [
    "_  # the REPL-specific variable that stores the previous evaluation"
   ]
  },
  {
   "cell_type": "code",
   "execution_count": null,
   "metadata": {},
   "outputs": [],
   "source": [
    "__builtins__  # module that is automatically loaded on startup"
   ]
  },
  {
   "cell_type": "code",
   "execution_count": null,
   "metadata": {},
   "outputs": [],
   "source": [
    "print(\"Hello world!\")  # built-in function for printing the string representation of an object"
   ]
  },
  {
   "cell_type": "code",
   "execution_count": null,
   "metadata": {},
   "outputs": [],
   "source": [
    "dir(__builtins__)  # built-in function that returns all references contained by an object"
   ]
  },
  {
   "cell_type": "code",
   "execution_count": null,
   "metadata": {},
   "outputs": [],
   "source": [
    "__builtins__.round"
   ]
  },
  {
   "cell_type": "code",
   "execution_count": null,
   "metadata": {},
   "outputs": [],
   "source": [
    "round == __builtins__.round  # built-in objects are automatically loaded into the global scope"
   ]
  },
  {
   "cell_type": "code",
   "execution_count": null,
   "metadata": {},
   "outputs": [],
   "source": [
    "round(\"potato\")"
   ]
  },
  {
   "cell_type": "code",
   "execution_count": null,
   "metadata": {},
   "outputs": [],
   "source": [
    "help(round)  # built-in method that shows the docstrings embedded in an object"
   ]
  },
  {
   "cell_type": "code",
   "execution_count": null,
   "metadata": {},
   "outputs": [],
   "source": [
    "round(1.5)"
   ]
  },
  {
   "cell_type": "code",
   "execution_count": null,
   "metadata": {},
   "outputs": [],
   "source": [
    "help(\"modules\")  # help recognizes special strings, e.g. \"modules\" shows all available modules"
   ]
  },
  {
   "cell_type": "markdown",
   "metadata": {},
   "source": [
    "### Headless-Chicken coding\n",
    "- The combination of a real-time REPL, built-in, and standard libraries lets you code with minimal background knowledge\n",
    "- This lets you be sure of the code you write works, before even writing it in a file\n",
    "    - Do sample demo\n",
    "- Bring up a REPL in the middle of execution using:\n",
    "    - ``` import code; code.interact(local={**locals(), **globals()}) ```\n",
    "- Bring up the source code in the middle of execution using:\n",
    "    - ``` import inspect; inspect.getsource(OBJECT_NAME) ```\n",
    "- Everything is accessible to the user since abstraction is simply used for organizing code\n",
    "    - This is unlike C# or Java where there are access modifiers to baby-proof the code\n",
    "    - This philosophy of power over formality eliminates the need for gimmicks such as access modifiers"
   ]
  },
  {
   "cell_type": "markdown",
   "metadata": {},
   "source": [
    "### Built-ins proper\n",
    "- Everything in Python is defined by objects\n",
    "    - What defines an object? <!-- Objects are implemented in C -->\n",
    "- The behavior of an object is characterized by its function objects\n",
    "    - Most keywords & constructs in Python are actually references to \"Magic methods\"\n",
    "    - Type checks in Python are done within these Magic methods\n",
    "        - If an object walks like a duck and talks like a duck, then let's treat it like a duck\n",
    "    - This duck-typing eliminates the need for gimmicks such as interfaces, generics, and reflections"
   ]
  },
  {
   "cell_type": "code",
   "execution_count": null,
   "metadata": {},
   "outputs": [],
   "source": [
    "print(\"Default contents of an object:\")\n",
    "print(dir(object))  # object() calls __init__, == calls __eq__, str(object) calls __str__\n",
    "\n",
    "print(\"\\nDynamic/Duck-typing in action:\")\n",
    "print((1).__lt__(2))  # or 1 < 2\n",
    "print((1).__lt__(\"potato\"))  # the __lt__ method of 1 does not accept string inputs "
   ]
  },
  {
   "cell_type": "markdown",
   "metadata": {},
   "source": [
    "#### Object bindings\n",
    "- A variable in Python is a name we assign to an object\n",
    "    - This is unlike C# or Java where variables are containers of an object\n",
    "    - The = symbol means \"bind to\" instead of \"write to\" \n",
    "- Objects are stored in memory, then variables can hold object references\n",
    "    - Once the number of references to an object reaches 0, the garbage collector erases the object from memory"
   ]
  },
  {
   "cell_type": "code",
   "execution_count": null,
   "metadata": {},
   "outputs": [],
   "source": [
    "print(id(\"potato\"))  # built-in method that returns the unique identifier of an object\n",
    "x = \"potato\"  # the x is bound to \"potato\" \n",
    "z = x  # z is bound to x's bounded object\n",
    "print(id(\"potato\"), id(x), id(z))\n",
    "\n",
    "x = (1, 2, 3)  # x is bound to a new object\n",
    "print(id(\"potato\"), id(x), id(z))"
   ]
  },
  {
   "cell_type": "markdown",
   "metadata": {},
   "source": [
    "#### Creating built-in objects\n",
    "- int class"
   ]
  },
  {
   "cell_type": "code",
   "execution_count": null,
   "metadata": {},
   "outputs": [],
   "source": [
    "print(\"ints via literals:\")\n",
    "print(10)  # int default\n",
    "print(0b10)  # int base 2\n",
    "print(0o777)  # int base 8\n",
    "print(-0xdeadbeef)  # int base 16\n",
    "\n",
    "print(\"ints via constructors:\")\n",
    "print(int(True))\n",
    "print(int(10.9))\n",
    "print(int(\"-11\", base=7))"
   ]
  },
  {
   "cell_type": "markdown",
   "metadata": {},
   "source": [
    "- float class"
   ]
  },
  {
   "cell_type": "code",
   "execution_count": null,
   "metadata": {},
   "outputs": [],
   "source": [
    "print(\"floats via literals:\")\n",
    "print(10.1)  # float default\n",
    "print(-2e-5)  # float scientific notation\n",
    "\n",
    "print(\"floats via constructors:\")\n",
    "print(float(False))\n",
    "print(float('nan'))\n",
    "print(float('inf'))\n",
    "print(float('-inf'))"
   ]
  },
  {
   "cell_type": "markdown",
   "metadata": {},
   "source": [
    "    - Manipulating numbers"
   ]
  },
  {
   "cell_type": "code",
   "execution_count": null,
   "metadata": {},
   "outputs": [],
   "source": [
    "print(dir(float))\n",
    "print((10).__mul__((10).__add__(1)).__eq__(10 * (10 + 1)))\n",
    "print(10 / 3)  # real division (calls __div__)\n",
    "print(10 // 3)  # integer division (calls something)\n",
    "print(2 ** 3)  # exponentiation (calls __pow__)\n",
    "print(1 / float('inf'))\n",
    "\n",
    "x = 123  # binds 123 to x\n",
    "print(x, id(x))\n",
    "x += 1  # rebinds a new object (defined via +) to x\n",
    "print(x, id(x))"
   ]
  },
  {
   "cell_type": "code",
   "execution_count": null,
   "metadata": {},
   "outputs": [],
   "source": [
    "print(2 ** 1024)  # compare to System.out.println(Math.pow(2, 1024));\n",
    "print(2 ** 102400)  # Python stores numbers with arbitrary precision"
   ]
  },
  {
   "cell_type": "markdown",
   "metadata": {},
   "source": [
    "- str class"
   ]
  },
  {
   "cell_type": "code",
   "execution_count": null,
   "metadata": {
    "scrolled": true
   },
   "outputs": [],
   "source": [
    "print(\"strs via literals:\")\n",
    "print(\"I'm JP\")  # delimit strings with \" to avoid the need to escape '\n",
    "print('JP said \"This sentence is false.\"')  # delimit strings with ' to avoid the need to escape \"\n",
    "print(\"\"\"___\n",
    "my line 2: I'm JP (multiline version) \"\"\")\n",
    "print('''___\n",
    "my line 2: JP said \"This sentence is false.\" (multiline version) ''')\n",
    "print(\"I'm a string with\\n\\t escape squences\\t\\u00e6\")\n",
    "print(r\"I'm a raw string \\n\\t\")\n",
    "print(f\"I'm can format strings using f-strings. My __name__ is: {__name__}\")\n",
    "\n",
    "print(\"\\nstrs via constructors:\")\n",
    "print(str(10))\n",
    "print(str(b\"hello\", encoding='utf-8'))"
   ]
  },
  {
   "cell_type": "markdown",
   "metadata": {},
   "source": [
    "    - Manipulating strings"
   ]
  },
  {
   "cell_type": "code",
   "execution_count": null,
   "metadata": {},
   "outputs": [],
   "source": [
    "print(dir(str))\n",
    "print(\"\\tabcdefg\".replace(\"a\", \"0\"))\n",
    "print(\"\\tabcdefg\".upper())  # all caps\n",
    "print(\"\\tabcdefg\".strip())  # strips trailing whitespaces\n",
    "print(\"\\tabcdefg\".endswith(\"g\"))\n",
    "print(\"\\tabcdefg\".index(\"g\"))\n",
    "print(\"\\tabcdefg\"[7])\n",
    "print(\"\\tabcdefg\"[1:3])\n",
    "print(\"x\" + \"y\")  # concatinates strings (calls __add__)\n",
    "print(\"xy\" * 3)  # repeated concatination (calls __mul__)\n",
    "print(\"y\" in \"xyz\")  # checks if substring (calls __contains__)\n",
    "print(len(\"12345\"))  # returns the number of characters in the string"
   ]
  },
  {
   "cell_type": "markdown",
   "metadata": {},
   "source": [
    "- bytes class"
   ]
  },
  {
   "cell_type": "code",
   "execution_count": null,
   "metadata": {},
   "outputs": [],
   "source": [
    "print(\"bytes via literals:\")\n",
    "print(b\"i'm a bytestring\")\n",
    "\n",
    "print(\"\\nbytes via constructors:\")\n",
    "print(bytes(10))\n",
    "print(bytes(\"hello\", encoding='utf-8'))"
   ]
  },
  {
   "cell_type": "markdown",
   "metadata": {},
   "source": [
    "- none class"
   ]
  },
  {
   "cell_type": "code",
   "execution_count": null,
   "metadata": {},
   "outputs": [],
   "source": [
    "print(None)"
   ]
  },
  {
   "cell_type": "markdown",
   "metadata": {},
   "source": [
    "- bool class"
   ]
  },
  {
   "cell_type": "code",
   "execution_count": null,
   "metadata": {},
   "outputs": [],
   "source": [
    "print(\"bools via literals:\")\n",
    "print(True)\n",
    "print(False)\n",
    "\n",
    "print(\"\\nbools via constructors:\")\n",
    "print(bool(None))\n",
    "print(bool(-10))\n",
    "print(bool(0))\n",
    "print(bool(\"\"))\n",
    "print(bool(\"False\"))\n",
    "print(bool([]))\n",
    "print(bool([\"potato\"]))"
   ]
  },
  {
   "cell_type": "markdown",
   "metadata": {},
   "source": [
    "- tuple class"
   ]
  },
  {
   "cell_type": "code",
   "execution_count": null,
   "metadata": {},
   "outputs": [],
   "source": [
    "print(())\n",
    "print((1, True, \"potato\"))"
   ]
  },
  {
   "cell_type": "markdown",
   "metadata": {},
   "source": [
    "- list class (mutable)"
   ]
  },
  {
   "cell_type": "code",
   "execution_count": null,
   "metadata": {},
   "outputs": [],
   "source": [
    "print([])\n",
    "print([1, True, \"potato\"])"
   ]
  },
  {
   "cell_type": "markdown",
   "metadata": {},
   "source": [
    "- dict class (mutable)"
   ]
  },
  {
   "cell_type": "code",
   "execution_count": null,
   "metadata": {},
   "outputs": [],
   "source": [
    "print({})\n",
    "print({\n",
    "    \"keys must be immutable objects\": \"values can be any object\",\n",
    "    True: \"\",\n",
    "    \"False\": 50,\n",
    "    (\"x\", \"y\", \"z\"): [1, \"2\", True]\n",
    "})"
   ]
  },
  {
   "cell_type": "markdown",
   "metadata": {},
   "source": [
    "    - Manipulating collections"
   ]
  },
  {
   "cell_type": "code",
   "execution_count": null,
   "metadata": {},
   "outputs": [],
   "source": [
    "print(\"list and tuple indexing:\")\n",
    "print([1, 2, 3, 4, 5, 6][0])  # gets object at index 0 (calls __getitem__)\n",
    "print([1, 2, 3, 4, 5, 6][-1])  # gets object at last index (lists are circular)\n",
    "print([1, 2, 3, 4, 5, 6][ :2])  # splices the list from start index until index 2\n",
    "print([1, 2, 3, 4, 5, 6][2: ])  # splices the list from index 2 until last index\n",
    "print([1, 2, 3, 4, 5, 6][ :-2])  # splices the list from start index until second to last index\n",
    "print([1, 2, 3, 4, 5, 6][-2: ])  # splices the list from second to last index until last index \n",
    "print([1, 2, 3, 4, 5, 6][:])  # splices the list from start index to last index (new copy)\n",
    "\n",
    "print(\"\\ndict indexing:\")\n",
    "print({1: 2, True: -10}[True])\n",
    "print({1: 2, True: -10}.get(False, \"default get\"))"
   ]
  },
  {
   "cell_type": "code",
   "execution_count": null,
   "metadata": {
    "scrolled": true
   },
   "outputs": [],
   "source": [
    "print(\"mutating lists:\")\n",
    "x = [1, 2, 3]\n",
    "print(x, len(x))\n",
    "x[1] = 100\n",
    "print(x)\n",
    "x.append(10)\n",
    "print(x)\n",
    "x.pop(0)\n",
    "print(x)\n",
    "x += [200, 201, 202]\n",
    "print(x)\n",
    "\n",
    "print(\"\\nmutating dicts:\")\n",
    "x = {\"key1\": 2, True: 4}\n",
    "print(x, len(x))\n",
    "x[True] = 50\n",
    "print(x)\n",
    "x[\"new key\"] = \"new value\"\n",
    "print(x)\n",
    "x.pop(\"key1\")\n",
    "print(x)\n",
    "x.update({\"asd\": \"ASD\", \"ZXC\": \"zxc\"})\n",
    "print(x)"
   ]
  },
  {
   "cell_type": "markdown",
   "metadata": {},
   "source": [
    "- function class (calls \\_\\_call\\_\\_)"
   ]
  },
  {
   "cell_type": "code",
   "execution_count": null,
   "metadata": {},
   "outputs": [],
   "source": [
    "!!! TODO: add def (two ways) and sample call and lambdas?"
   ]
  },
  {
   "cell_type": "markdown",
   "metadata": {},
   "source": [
    "- generator and iterator classes (calls __next__ and __iter__ respectively)\n",
    "    - a generator is a function with a save state of closure (do example)\n",
    "    - iterators are extensions of objects that are generators"
   ]
  },
  {
   "cell_type": "code",
   "execution_count": null,
   "metadata": {},
   "outputs": [],
   "source": [
    "[1,2,3].__iter__().__next__()\n",
    "{}.items().__iter()__.__next__()"
   ]
  },
  {
   "cell_type": "markdown",
   "metadata": {},
   "source": [
    "- context class (calls \\_\\_enter\\_\\_ and \\_\\_exit\\_\\_)"
   ]
  },
  {
   "cell_type": "code",
   "execution_count": null,
   "metadata": {},
   "outputs": [],
   "source": [
    "!!! TODO: add def and sample context"
   ]
  },
  {
   "cell_type": "code",
   "execution_count": null,
   "metadata": {},
   "outputs": [],
   "source": [
    "!!! TODO: add imports"
   ]
  }
 ],
 "metadata": {
  "kernelspec": {
   "display_name": "Python 3",
   "language": "python",
   "name": "python3"
  },
  "language_info": {
   "codemirror_mode": {
    "name": "ipython",
    "version": 3
   },
   "file_extension": ".py",
   "mimetype": "text/x-python",
   "name": "python",
   "nbconvert_exporter": "python",
   "pygments_lexer": "ipython3",
   "version": "3.6.1"
  }
 },
 "nbformat": 4,
 "nbformat_minor": 2
}
